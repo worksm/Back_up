{
 "cells": [
  {
   "cell_type": "markdown",
   "id": "44070c57",
   "metadata": {},
   "source": [
    "### Machine Learning Evaluation\n",
    "\n",
    "Description: Raw football data was imported and cleaned utilizing Pandas for the purpose of evaluating different supervised machine learning models with our dummy data. Data was initialized and split into testing and training datasets and was further evaluted with multiple models. Further analysis of accuracy scores and classification_reports will be completed to determine the most effective model to perform predictive modeling on our final dataset. \n",
    "\n"
   ]
  },
  {
   "cell_type": "markdown",
   "id": "307c49e7",
   "metadata": {},
   "source": [
    "### Import Dependencies/Machine Learning "
   ]
  },
  {
   "cell_type": "code",
   "execution_count": 1,
   "id": "57480d62",
   "metadata": {},
   "outputs": [],
   "source": [
    "import warnings\n",
    "warnings.filterwarnings('ignore')\n",
    "import pandas as pd\n",
    "from sklearn.tree import DecisionTreeClassifier\n",
    "from sklearn.model_selection import train_test_split\n"
   ]
  },
  {
   "cell_type": "code",
   "execution_count": 2,
   "id": "af6b8e58",
   "metadata": {},
   "outputs": [],
   "source": [
    "import numpy as np\n",
    "import pandas as pd\n",
    "from pathlib import Path\n",
    "from collections import Counter\n"
   ]
  },
  {
   "cell_type": "markdown",
   "id": "caca8e5f",
   "metadata": {},
   "source": [
    "### Import Dataset"
   ]
  },
  {
   "cell_type": "code",
   "execution_count": 3,
   "id": "62ce20c5",
   "metadata": {},
   "outputs": [
    {
     "data": {
      "text/html": [
       "<div>\n",
       "<style scoped>\n",
       "    .dataframe tbody tr th:only-of-type {\n",
       "        vertical-align: middle;\n",
       "    }\n",
       "\n",
       "    .dataframe tbody tr th {\n",
       "        vertical-align: top;\n",
       "    }\n",
       "\n",
       "    .dataframe thead th {\n",
       "        text-align: right;\n",
       "    }\n",
       "</style>\n",
       "<table border=\"1\" class=\"dataframe\">\n",
       "  <thead>\n",
       "    <tr style=\"text-align: right;\">\n",
       "      <th></th>\n",
       "      <th>game_id</th>\n",
       "      <th>vis_team</th>\n",
       "      <th>home_team</th>\n",
       "      <th>vis_score</th>\n",
       "      <th>home_score</th>\n",
       "      <th>WINNER</th>\n",
       "      <th>OT</th>\n",
       "      <th>Roof</th>\n",
       "      <th>Surface</th>\n",
       "      <th>Temperature</th>\n",
       "      <th>...</th>\n",
       "      <th>rush_broken_tackles</th>\n",
       "      <th>rec_air_yds</th>\n",
       "      <th>rec_yac</th>\n",
       "      <th>rec_drops</th>\n",
       "      <th>offense</th>\n",
       "      <th>off_pct</th>\n",
       "      <th>last_300_median_DKP</th>\n",
       "      <th>last_300_median_FDP</th>\n",
       "      <th>last_600_median_DKP</th>\n",
       "      <th>last_600_median_FDP</th>\n",
       "    </tr>\n",
       "  </thead>\n",
       "  <tbody>\n",
       "    <tr>\n",
       "      <th>0</th>\n",
       "      <td>201909050chi</td>\n",
       "      <td>GNB</td>\n",
       "      <td>CHI</td>\n",
       "      <td>10</td>\n",
       "      <td>3</td>\n",
       "      <td>VW</td>\n",
       "      <td>False</td>\n",
       "      <td>outdoors</td>\n",
       "      <td>grass</td>\n",
       "      <td>65</td>\n",
       "      <td>...</td>\n",
       "      <td>0</td>\n",
       "      <td>0.0</td>\n",
       "      <td>0</td>\n",
       "      <td>0</td>\n",
       "      <td>61</td>\n",
       "      <td>100</td>\n",
       "      <td>18.06</td>\n",
       "      <td>18.06</td>\n",
       "      <td>18.61</td>\n",
       "      <td>18.61</td>\n",
       "    </tr>\n",
       "    <tr>\n",
       "      <th>1</th>\n",
       "      <td>201909050chi</td>\n",
       "      <td>GNB</td>\n",
       "      <td>CHI</td>\n",
       "      <td>10</td>\n",
       "      <td>3</td>\n",
       "      <td>VW</td>\n",
       "      <td>False</td>\n",
       "      <td>outdoors</td>\n",
       "      <td>grass</td>\n",
       "      <td>65</td>\n",
       "      <td>...</td>\n",
       "      <td>0</td>\n",
       "      <td>63.2</td>\n",
       "      <td>19</td>\n",
       "      <td>0</td>\n",
       "      <td>59</td>\n",
       "      <td>97</td>\n",
       "      <td>23.30</td>\n",
       "      <td>18.60</td>\n",
       "      <td>21.40</td>\n",
       "      <td>17.75</td>\n",
       "    </tr>\n",
       "    <tr>\n",
       "      <th>2</th>\n",
       "      <td>201909050chi</td>\n",
       "      <td>GNB</td>\n",
       "      <td>CHI</td>\n",
       "      <td>10</td>\n",
       "      <td>3</td>\n",
       "      <td>VW</td>\n",
       "      <td>False</td>\n",
       "      <td>outdoors</td>\n",
       "      <td>grass</td>\n",
       "      <td>65</td>\n",
       "      <td>...</td>\n",
       "      <td>0</td>\n",
       "      <td>81.0</td>\n",
       "      <td>2</td>\n",
       "      <td>0</td>\n",
       "      <td>41</td>\n",
       "      <td>67</td>\n",
       "      <td>6.80</td>\n",
       "      <td>5.80</td>\n",
       "      <td>8.85</td>\n",
       "      <td>6.60</td>\n",
       "    </tr>\n",
       "    <tr>\n",
       "      <th>3</th>\n",
       "      <td>201909050chi</td>\n",
       "      <td>GNB</td>\n",
       "      <td>CHI</td>\n",
       "      <td>10</td>\n",
       "      <td>3</td>\n",
       "      <td>VW</td>\n",
       "      <td>False</td>\n",
       "      <td>outdoors</td>\n",
       "      <td>grass</td>\n",
       "      <td>65</td>\n",
       "      <td>...</td>\n",
       "      <td>1</td>\n",
       "      <td>-1.0</td>\n",
       "      <td>1</td>\n",
       "      <td>0</td>\n",
       "      <td>37</td>\n",
       "      <td>61</td>\n",
       "      <td>27.30</td>\n",
       "      <td>24.80</td>\n",
       "      <td>27.30</td>\n",
       "      <td>24.80</td>\n",
       "    </tr>\n",
       "    <tr>\n",
       "      <th>4</th>\n",
       "      <td>201909050chi</td>\n",
       "      <td>GNB</td>\n",
       "      <td>CHI</td>\n",
       "      <td>10</td>\n",
       "      <td>3</td>\n",
       "      <td>VW</td>\n",
       "      <td>False</td>\n",
       "      <td>outdoors</td>\n",
       "      <td>grass</td>\n",
       "      <td>65</td>\n",
       "      <td>...</td>\n",
       "      <td>0</td>\n",
       "      <td>21.0</td>\n",
       "      <td>8</td>\n",
       "      <td>0</td>\n",
       "      <td>33</td>\n",
       "      <td>54</td>\n",
       "      <td>NaN</td>\n",
       "      <td>NaN</td>\n",
       "      <td>NaN</td>\n",
       "      <td>NaN</td>\n",
       "    </tr>\n",
       "    <tr>\n",
       "      <th>...</th>\n",
       "      <td>...</td>\n",
       "      <td>...</td>\n",
       "      <td>...</td>\n",
       "      <td>...</td>\n",
       "      <td>...</td>\n",
       "      <td>...</td>\n",
       "      <td>...</td>\n",
       "      <td>...</td>\n",
       "      <td>...</td>\n",
       "      <td>...</td>\n",
       "      <td>...</td>\n",
       "      <td>...</td>\n",
       "      <td>...</td>\n",
       "      <td>...</td>\n",
       "      <td>...</td>\n",
       "      <td>...</td>\n",
       "      <td>...</td>\n",
       "      <td>...</td>\n",
       "      <td>...</td>\n",
       "      <td>...</td>\n",
       "      <td>...</td>\n",
       "    </tr>\n",
       "    <tr>\n",
       "      <th>13933</th>\n",
       "      <td>202101240kan</td>\n",
       "      <td>BUF</td>\n",
       "      <td>KAN</td>\n",
       "      <td>24</td>\n",
       "      <td>38</td>\n",
       "      <td>HW</td>\n",
       "      <td>False</td>\n",
       "      <td>outdoors</td>\n",
       "      <td>astroturf</td>\n",
       "      <td>40</td>\n",
       "      <td>...</td>\n",
       "      <td>0</td>\n",
       "      <td>0.0</td>\n",
       "      <td>0</td>\n",
       "      <td>0</td>\n",
       "      <td>42</td>\n",
       "      <td>65</td>\n",
       "      <td>11.60</td>\n",
       "      <td>8.85</td>\n",
       "      <td>8.95</td>\n",
       "      <td>6.45</td>\n",
       "    </tr>\n",
       "    <tr>\n",
       "      <th>13934</th>\n",
       "      <td>202101240kan</td>\n",
       "      <td>BUF</td>\n",
       "      <td>KAN</td>\n",
       "      <td>24</td>\n",
       "      <td>38</td>\n",
       "      <td>HW</td>\n",
       "      <td>False</td>\n",
       "      <td>outdoors</td>\n",
       "      <td>astroturf</td>\n",
       "      <td>40</td>\n",
       "      <td>...</td>\n",
       "      <td>0</td>\n",
       "      <td>0.0</td>\n",
       "      <td>0</td>\n",
       "      <td>0</td>\n",
       "      <td>7</td>\n",
       "      <td>11</td>\n",
       "      <td>NaN</td>\n",
       "      <td>NaN</td>\n",
       "      <td>NaN</td>\n",
       "      <td>NaN</td>\n",
       "    </tr>\n",
       "    <tr>\n",
       "      <th>13935</th>\n",
       "      <td>202101240kan</td>\n",
       "      <td>BUF</td>\n",
       "      <td>KAN</td>\n",
       "      <td>24</td>\n",
       "      <td>38</td>\n",
       "      <td>HW</td>\n",
       "      <td>False</td>\n",
       "      <td>outdoors</td>\n",
       "      <td>astroturf</td>\n",
       "      <td>40</td>\n",
       "      <td>...</td>\n",
       "      <td>0</td>\n",
       "      <td>0.0</td>\n",
       "      <td>0</td>\n",
       "      <td>0</td>\n",
       "      <td>7</td>\n",
       "      <td>11</td>\n",
       "      <td>NaN</td>\n",
       "      <td>NaN</td>\n",
       "      <td>NaN</td>\n",
       "      <td>NaN</td>\n",
       "    </tr>\n",
       "    <tr>\n",
       "      <th>13936</th>\n",
       "      <td>202101240kan</td>\n",
       "      <td>BUF</td>\n",
       "      <td>KAN</td>\n",
       "      <td>24</td>\n",
       "      <td>38</td>\n",
       "      <td>HW</td>\n",
       "      <td>False</td>\n",
       "      <td>outdoors</td>\n",
       "      <td>astroturf</td>\n",
       "      <td>40</td>\n",
       "      <td>...</td>\n",
       "      <td>0</td>\n",
       "      <td>0.0</td>\n",
       "      <td>0</td>\n",
       "      <td>0</td>\n",
       "      <td>4</td>\n",
       "      <td>6</td>\n",
       "      <td>NaN</td>\n",
       "      <td>NaN</td>\n",
       "      <td>NaN</td>\n",
       "      <td>NaN</td>\n",
       "    </tr>\n",
       "    <tr>\n",
       "      <th>13937</th>\n",
       "      <td>202101240kan</td>\n",
       "      <td>BUF</td>\n",
       "      <td>KAN</td>\n",
       "      <td>24</td>\n",
       "      <td>38</td>\n",
       "      <td>HW</td>\n",
       "      <td>False</td>\n",
       "      <td>outdoors</td>\n",
       "      <td>astroturf</td>\n",
       "      <td>40</td>\n",
       "      <td>...</td>\n",
       "      <td>0</td>\n",
       "      <td>0.0</td>\n",
       "      <td>0</td>\n",
       "      <td>0</td>\n",
       "      <td>3</td>\n",
       "      <td>5</td>\n",
       "      <td>30.00</td>\n",
       "      <td>26.50</td>\n",
       "      <td>30.00</td>\n",
       "      <td>26.50</td>\n",
       "    </tr>\n",
       "  </tbody>\n",
       "</table>\n",
       "<p>13938 rows × 74 columns</p>\n",
       "</div>"
      ],
      "text/plain": [
       "            game_id vis_team home_team  vis_score  home_score WINNER     OT  \\\n",
       "0      201909050chi      GNB       CHI         10           3     VW  False   \n",
       "1      201909050chi      GNB       CHI         10           3     VW  False   \n",
       "2      201909050chi      GNB       CHI         10           3     VW  False   \n",
       "3      201909050chi      GNB       CHI         10           3     VW  False   \n",
       "4      201909050chi      GNB       CHI         10           3     VW  False   \n",
       "...             ...      ...       ...        ...         ...    ...    ...   \n",
       "13933  202101240kan      BUF       KAN         24          38     HW  False   \n",
       "13934  202101240kan      BUF       KAN         24          38     HW  False   \n",
       "13935  202101240kan      BUF       KAN         24          38     HW  False   \n",
       "13936  202101240kan      BUF       KAN         24          38     HW  False   \n",
       "13937  202101240kan      BUF       KAN         24          38     HW  False   \n",
       "\n",
       "           Roof    Surface  Temperature  ...  rush_broken_tackles  \\\n",
       "0      outdoors      grass           65  ...                    0   \n",
       "1      outdoors      grass           65  ...                    0   \n",
       "2      outdoors      grass           65  ...                    0   \n",
       "3      outdoors      grass           65  ...                    1   \n",
       "4      outdoors      grass           65  ...                    0   \n",
       "...         ...        ...          ...  ...                  ...   \n",
       "13933  outdoors  astroturf           40  ...                    0   \n",
       "13934  outdoors  astroturf           40  ...                    0   \n",
       "13935  outdoors  astroturf           40  ...                    0   \n",
       "13936  outdoors  astroturf           40  ...                    0   \n",
       "13937  outdoors  astroturf           40  ...                    0   \n",
       "\n",
       "       rec_air_yds  rec_yac rec_drops offense  off_pct  last_300_median_DKP  \\\n",
       "0              0.0        0         0      61      100                18.06   \n",
       "1             63.2       19         0      59       97                23.30   \n",
       "2             81.0        2         0      41       67                 6.80   \n",
       "3             -1.0        1         0      37       61                27.30   \n",
       "4             21.0        8         0      33       54                  NaN   \n",
       "...            ...      ...       ...     ...      ...                  ...   \n",
       "13933          0.0        0         0      42       65                11.60   \n",
       "13934          0.0        0         0       7       11                  NaN   \n",
       "13935          0.0        0         0       7       11                  NaN   \n",
       "13936          0.0        0         0       4        6                  NaN   \n",
       "13937          0.0        0         0       3        5                30.00   \n",
       "\n",
       "       last_300_median_FDP last_600_median_DKP last_600_median_FDP  \n",
       "0                    18.06               18.61               18.61  \n",
       "1                    18.60               21.40               17.75  \n",
       "2                     5.80                8.85                6.60  \n",
       "3                    24.80               27.30               24.80  \n",
       "4                      NaN                 NaN                 NaN  \n",
       "...                    ...                 ...                 ...  \n",
       "13933                 8.85                8.95                6.45  \n",
       "13934                  NaN                 NaN                 NaN  \n",
       "13935                  NaN                 NaN                 NaN  \n",
       "13936                  NaN                 NaN                 NaN  \n",
       "13937                26.50               30.00               26.50  \n",
       "\n",
       "[13938 rows x 74 columns]"
      ]
     },
     "execution_count": 3,
     "metadata": {},
     "output_type": "execute_result"
    }
   ],
   "source": [
    "# Load the .csv dataset.\n",
    "file_path = \"../Resources/final_raw.csv\"\n",
    "df = pd.read_csv(file_path)\n",
    "df"
   ]
  },
  {
   "cell_type": "markdown",
   "id": "15598f53",
   "metadata": {},
   "source": [
    "###"
   ]
  },
  {
   "cell_type": "code",
   "execution_count": 4,
   "id": "dff057fd",
   "metadata": {
    "scrolled": true
   },
   "outputs": [
    {
     "data": {
      "text/plain": [
       "Index(['game_id', 'vis_team', 'home_team', 'vis_score', 'home_score', 'WINNER',\n",
       "       'OT', 'Roof', 'Surface', 'Temperature', 'Humidity', 'Wind_Speed',\n",
       "       'Vegas_Line', 'Vegas_Favorite', 'Over_Under', 'game_date.x', 'season',\n",
       "       'game_date.y', 'player_id', 'pos', 'player', 'team', 'pass_cmp',\n",
       "       'pass_att', 'pass_yds', 'pass_td', 'pass_int', 'pass_sacked',\n",
       "       'pass_sacked_yds', 'pass_long', 'pass_rating', 'rush_att', 'rush_yds',\n",
       "       'rush_td', 'rush_long', 'targets', 'rec', 'rec_yds', 'rec_td',\n",
       "       'rec_long', 'fumbles_lost', 'rush_scrambles', 'designed_rush_att',\n",
       "       'comb_pass_rush_play', 'comb_pass_play', 'comb_rush_play',\n",
       "       'Team_abbrev', 'Opponent_abbrev', 'two_point_conv', 'total_ret_td',\n",
       "       'offensive_fumble_recovery_td', 'pass_yds_bonus', 'rush_yds_bonus',\n",
       "       'rec_yds_bonus', 'Total_DKP', 'Off_DKP', 'Total_FDP', 'Off_FDP',\n",
       "       'pass_target_yds', 'pass_poor_throws', 'pass_blitzed', 'pass_hurried',\n",
       "       'rush_yds_before_contact', 'rush_yac', 'rush_broken_tackles',\n",
       "       'rec_air_yds', 'rec_yac', 'rec_drops', 'offense', 'off_pct',\n",
       "       'last_300_median_DKP', 'last_300_median_FDP', 'last_600_median_DKP',\n",
       "       'last_600_median_FDP'],\n",
       "      dtype='object')"
      ]
     },
     "execution_count": 4,
     "metadata": {},
     "output_type": "execute_result"
    }
   ],
   "source": [
    "df.columns"
   ]
  },
  {
   "cell_type": "markdown",
   "id": "60313bbe",
   "metadata": {},
   "source": [
    "### Initialize Dataset\n",
    "      "
   ]
  },
  {
   "cell_type": "code",
   "execution_count": 5,
   "id": "d9076f12",
   "metadata": {},
   "outputs": [
    {
     "data": {
      "text/plain": [
       "array(['grass', 'fieldturf', 'sportturf', 'fieldturf ', 'astroturf',\n",
       "       'matrixturf'], dtype=object)"
      ]
     },
     "execution_count": 5,
     "metadata": {},
     "output_type": "execute_result"
    }
   ],
   "source": [
    "df[\"Surface\"].unique()"
   ]
  },
  {
   "cell_type": "code",
   "execution_count": 6,
   "id": "3a1503c4",
   "metadata": {},
   "outputs": [
    {
     "data": {
      "text/html": [
       "<div>\n",
       "<style scoped>\n",
       "    .dataframe tbody tr th:only-of-type {\n",
       "        vertical-align: middle;\n",
       "    }\n",
       "\n",
       "    .dataframe tbody tr th {\n",
       "        vertical-align: top;\n",
       "    }\n",
       "\n",
       "    .dataframe thead th {\n",
       "        text-align: right;\n",
       "    }\n",
       "</style>\n",
       "<table border=\"1\" class=\"dataframe\">\n",
       "  <thead>\n",
       "    <tr style=\"text-align: right;\">\n",
       "      <th></th>\n",
       "      <th>pass_att</th>\n",
       "      <th>pass_yds</th>\n",
       "      <th>offense</th>\n",
       "      <th>Surface</th>\n",
       "      <th>OT</th>\n",
       "    </tr>\n",
       "  </thead>\n",
       "  <tbody>\n",
       "    <tr>\n",
       "      <th>0</th>\n",
       "      <td>30</td>\n",
       "      <td>203</td>\n",
       "      <td>61</td>\n",
       "      <td>grass</td>\n",
       "      <td>False</td>\n",
       "    </tr>\n",
       "    <tr>\n",
       "      <th>1</th>\n",
       "      <td>0</td>\n",
       "      <td>0</td>\n",
       "      <td>59</td>\n",
       "      <td>grass</td>\n",
       "      <td>False</td>\n",
       "    </tr>\n",
       "    <tr>\n",
       "      <th>2</th>\n",
       "      <td>0</td>\n",
       "      <td>0</td>\n",
       "      <td>41</td>\n",
       "      <td>grass</td>\n",
       "      <td>False</td>\n",
       "    </tr>\n",
       "    <tr>\n",
       "      <th>3</th>\n",
       "      <td>0</td>\n",
       "      <td>0</td>\n",
       "      <td>37</td>\n",
       "      <td>grass</td>\n",
       "      <td>False</td>\n",
       "    </tr>\n",
       "    <tr>\n",
       "      <th>4</th>\n",
       "      <td>0</td>\n",
       "      <td>0</td>\n",
       "      <td>33</td>\n",
       "      <td>grass</td>\n",
       "      <td>False</td>\n",
       "    </tr>\n",
       "  </tbody>\n",
       "</table>\n",
       "</div>"
      ],
      "text/plain": [
       "   pass_att  pass_yds  offense Surface     OT\n",
       "0        30       203       61   grass  False\n",
       "1         0         0       59   grass  False\n",
       "2         0         0       41   grass  False\n",
       "3         0         0       37   grass  False\n",
       "4         0         0       33   grass  False"
      ]
     },
     "execution_count": 6,
     "metadata": {},
     "output_type": "execute_result"
    }
   ],
   "source": [
    "#Drop \n",
    "#df = df.drop(['',])\n",
    "\n",
    "#Keep\n",
    "df = df[['pass_att', 'pass_yds', 'offense', 'Surface', 'OT']]\n",
    "df.head()\n"
   ]
  },
  {
   "cell_type": "code",
   "execution_count": 7,
   "id": "86fbeef8",
   "metadata": {},
   "outputs": [
    {
     "data": {
      "text/html": [
       "<div>\n",
       "<style scoped>\n",
       "    .dataframe tbody tr th:only-of-type {\n",
       "        vertical-align: middle;\n",
       "    }\n",
       "\n",
       "    .dataframe tbody tr th {\n",
       "        vertical-align: top;\n",
       "    }\n",
       "\n",
       "    .dataframe thead th {\n",
       "        text-align: right;\n",
       "    }\n",
       "</style>\n",
       "<table border=\"1\" class=\"dataframe\">\n",
       "  <thead>\n",
       "    <tr style=\"text-align: right;\">\n",
       "      <th></th>\n",
       "      <th>pass_att</th>\n",
       "      <th>pass_yds</th>\n",
       "      <th>offense</th>\n",
       "      <th>Surface</th>\n",
       "      <th>OT</th>\n",
       "    </tr>\n",
       "  </thead>\n",
       "  <tbody>\n",
       "    <tr>\n",
       "      <th>0</th>\n",
       "      <td>30</td>\n",
       "      <td>203</td>\n",
       "      <td>61</td>\n",
       "      <td>grass</td>\n",
       "      <td>False</td>\n",
       "    </tr>\n",
       "    <tr>\n",
       "      <th>1</th>\n",
       "      <td>0</td>\n",
       "      <td>0</td>\n",
       "      <td>59</td>\n",
       "      <td>grass</td>\n",
       "      <td>False</td>\n",
       "    </tr>\n",
       "    <tr>\n",
       "      <th>2</th>\n",
       "      <td>0</td>\n",
       "      <td>0</td>\n",
       "      <td>41</td>\n",
       "      <td>grass</td>\n",
       "      <td>False</td>\n",
       "    </tr>\n",
       "    <tr>\n",
       "      <th>3</th>\n",
       "      <td>0</td>\n",
       "      <td>0</td>\n",
       "      <td>37</td>\n",
       "      <td>grass</td>\n",
       "      <td>False</td>\n",
       "    </tr>\n",
       "    <tr>\n",
       "      <th>4</th>\n",
       "      <td>0</td>\n",
       "      <td>0</td>\n",
       "      <td>33</td>\n",
       "      <td>grass</td>\n",
       "      <td>False</td>\n",
       "    </tr>\n",
       "  </tbody>\n",
       "</table>\n",
       "</div>"
      ],
      "text/plain": [
       "   pass_att  pass_yds  offense Surface     OT\n",
       "0        30       203       61   grass  False\n",
       "1         0         0       59   grass  False\n",
       "2         0         0       41   grass  False\n",
       "3         0         0       37   grass  False\n",
       "4         0         0       33   grass  False"
      ]
     },
     "execution_count": 7,
     "metadata": {},
     "output_type": "execute_result"
    }
   ],
   "source": [
    "#Drop all null values\n",
    "df = df.dropna()\n",
    "df.head()"
   ]
  },
  {
   "cell_type": "markdown",
   "id": "bb4ed734",
   "metadata": {},
   "source": [
    "### Split Data into Training and Testing"
   ]
  },
  {
   "cell_type": "code",
   "execution_count": 8,
   "id": "f5daf449",
   "metadata": {},
   "outputs": [],
   "source": [
    "# Create our features and target\n",
    "\n",
    "y = df['OT']\n",
    "\n",
    "X = df.drop(\"OT\", axis=1)\n",
    "X = pd.get_dummies(X)"
   ]
  },
  {
   "cell_type": "code",
   "execution_count": 9,
   "id": "f4a2af3a",
   "metadata": {},
   "outputs": [
    {
     "data": {
      "text/html": [
       "<div>\n",
       "<style scoped>\n",
       "    .dataframe tbody tr th:only-of-type {\n",
       "        vertical-align: middle;\n",
       "    }\n",
       "\n",
       "    .dataframe tbody tr th {\n",
       "        vertical-align: top;\n",
       "    }\n",
       "\n",
       "    .dataframe thead th {\n",
       "        text-align: right;\n",
       "    }\n",
       "</style>\n",
       "<table border=\"1\" class=\"dataframe\">\n",
       "  <thead>\n",
       "    <tr style=\"text-align: right;\">\n",
       "      <th></th>\n",
       "      <th>pass_att</th>\n",
       "      <th>pass_yds</th>\n",
       "      <th>offense</th>\n",
       "      <th>Surface_astroturf</th>\n",
       "      <th>Surface_fieldturf</th>\n",
       "      <th>Surface_fieldturf</th>\n",
       "      <th>Surface_grass</th>\n",
       "      <th>Surface_matrixturf</th>\n",
       "      <th>Surface_sportturf</th>\n",
       "    </tr>\n",
       "  </thead>\n",
       "  <tbody>\n",
       "    <tr>\n",
       "      <th>count</th>\n",
       "      <td>13938.000000</td>\n",
       "      <td>13938.00000</td>\n",
       "      <td>13938.000000</td>\n",
       "      <td>13938.000000</td>\n",
       "      <td>13938.000000</td>\n",
       "      <td>13938.000000</td>\n",
       "      <td>13938.000000</td>\n",
       "      <td>13938.000000</td>\n",
       "      <td>13938.000000</td>\n",
       "    </tr>\n",
       "    <tr>\n",
       "      <th>mean</th>\n",
       "      <td>2.876812</td>\n",
       "      <td>20.70254</td>\n",
       "      <td>32.824652</td>\n",
       "      <td>0.098866</td>\n",
       "      <td>0.152676</td>\n",
       "      <td>0.060769</td>\n",
       "      <td>0.621108</td>\n",
       "      <td>0.038600</td>\n",
       "      <td>0.027981</td>\n",
       "    </tr>\n",
       "    <tr>\n",
       "      <th>std</th>\n",
       "      <td>9.692101</td>\n",
       "      <td>71.17253</td>\n",
       "      <td>21.978545</td>\n",
       "      <td>0.298493</td>\n",
       "      <td>0.359688</td>\n",
       "      <td>0.238915</td>\n",
       "      <td>0.485129</td>\n",
       "      <td>0.192645</td>\n",
       "      <td>0.164924</td>\n",
       "    </tr>\n",
       "    <tr>\n",
       "      <th>min</th>\n",
       "      <td>0.000000</td>\n",
       "      <td>-2.00000</td>\n",
       "      <td>0.000000</td>\n",
       "      <td>0.000000</td>\n",
       "      <td>0.000000</td>\n",
       "      <td>0.000000</td>\n",
       "      <td>0.000000</td>\n",
       "      <td>0.000000</td>\n",
       "      <td>0.000000</td>\n",
       "    </tr>\n",
       "    <tr>\n",
       "      <th>25%</th>\n",
       "      <td>0.000000</td>\n",
       "      <td>0.00000</td>\n",
       "      <td>13.000000</td>\n",
       "      <td>0.000000</td>\n",
       "      <td>0.000000</td>\n",
       "      <td>0.000000</td>\n",
       "      <td>0.000000</td>\n",
       "      <td>0.000000</td>\n",
       "      <td>0.000000</td>\n",
       "    </tr>\n",
       "    <tr>\n",
       "      <th>50%</th>\n",
       "      <td>0.000000</td>\n",
       "      <td>0.00000</td>\n",
       "      <td>31.000000</td>\n",
       "      <td>0.000000</td>\n",
       "      <td>0.000000</td>\n",
       "      <td>0.000000</td>\n",
       "      <td>1.000000</td>\n",
       "      <td>0.000000</td>\n",
       "      <td>0.000000</td>\n",
       "    </tr>\n",
       "    <tr>\n",
       "      <th>75%</th>\n",
       "      <td>0.000000</td>\n",
       "      <td>0.00000</td>\n",
       "      <td>51.000000</td>\n",
       "      <td>0.000000</td>\n",
       "      <td>0.000000</td>\n",
       "      <td>0.000000</td>\n",
       "      <td>1.000000</td>\n",
       "      <td>0.000000</td>\n",
       "      <td>0.000000</td>\n",
       "    </tr>\n",
       "    <tr>\n",
       "      <th>max</th>\n",
       "      <td>68.000000</td>\n",
       "      <td>517.00000</td>\n",
       "      <td>98.000000</td>\n",
       "      <td>1.000000</td>\n",
       "      <td>1.000000</td>\n",
       "      <td>1.000000</td>\n",
       "      <td>1.000000</td>\n",
       "      <td>1.000000</td>\n",
       "      <td>1.000000</td>\n",
       "    </tr>\n",
       "  </tbody>\n",
       "</table>\n",
       "</div>"
      ],
      "text/plain": [
       "           pass_att     pass_yds       offense  Surface_astroturf  \\\n",
       "count  13938.000000  13938.00000  13938.000000       13938.000000   \n",
       "mean       2.876812     20.70254     32.824652           0.098866   \n",
       "std        9.692101     71.17253     21.978545           0.298493   \n",
       "min        0.000000     -2.00000      0.000000           0.000000   \n",
       "25%        0.000000      0.00000     13.000000           0.000000   \n",
       "50%        0.000000      0.00000     31.000000           0.000000   \n",
       "75%        0.000000      0.00000     51.000000           0.000000   \n",
       "max       68.000000    517.00000     98.000000           1.000000   \n",
       "\n",
       "       Surface_fieldturf  Surface_fieldturf   Surface_grass  \\\n",
       "count       13938.000000        13938.000000   13938.000000   \n",
       "mean            0.152676            0.060769       0.621108   \n",
       "std             0.359688            0.238915       0.485129   \n",
       "min             0.000000            0.000000       0.000000   \n",
       "25%             0.000000            0.000000       0.000000   \n",
       "50%             0.000000            0.000000       1.000000   \n",
       "75%             0.000000            0.000000       1.000000   \n",
       "max             1.000000            1.000000       1.000000   \n",
       "\n",
       "       Surface_matrixturf  Surface_sportturf  \n",
       "count        13938.000000       13938.000000  \n",
       "mean             0.038600           0.027981  \n",
       "std              0.192645           0.164924  \n",
       "min              0.000000           0.000000  \n",
       "25%              0.000000           0.000000  \n",
       "50%              0.000000           0.000000  \n",
       "75%              0.000000           0.000000  \n",
       "max              1.000000           1.000000  "
      ]
     },
     "execution_count": 9,
     "metadata": {},
     "output_type": "execute_result"
    }
   ],
   "source": [
    "X.describe()"
   ]
  },
  {
   "cell_type": "code",
   "execution_count": 10,
   "id": "72f60daf",
   "metadata": {},
   "outputs": [],
   "source": [
    "from sklearn.model_selection import train_test_split\n",
    "from sklearn.preprocessing import StandardScaler\n",
    "\n",
    "X_train, X_test, y_train, y_test = train_test_split(X, \n",
    "                                                    y, \n",
    "                                                    random_state=1)\n",
    "# Creating a StandardScaler instance.\n",
    "scaler = StandardScaler()\n",
    "# Fitting the Standard Scaler with the training data.\n",
    "X_scaler = scaler.fit(X_train)\n",
    "\n",
    "# Scaling the data.\n",
    "X_train_scaled = X_scaler.transform(X_train)\n",
    "X_test_scaled = X_scaler.transform(X_test)"
   ]
  },
  {
   "cell_type": "markdown",
   "id": "59d91fd1",
   "metadata": {},
   "source": [
    "### Logistic Regression"
   ]
  },
  {
   "cell_type": "code",
   "execution_count": 11,
   "id": "f9128fdf",
   "metadata": {},
   "outputs": [
    {
     "data": {
      "text/plain": [
       "LogisticRegression(random_state=1)"
      ]
     },
     "execution_count": 11,
     "metadata": {},
     "output_type": "execute_result"
    }
   ],
   "source": [
    "from sklearn.linear_model import LogisticRegression\n",
    "classifier = LogisticRegression(solver='lbfgs', random_state=1)\n",
    "classifier"
   ]
  },
  {
   "cell_type": "code",
   "execution_count": 12,
   "id": "c553716c",
   "metadata": {},
   "outputs": [
    {
     "data": {
      "text/plain": [
       "LogisticRegression(random_state=1)"
      ]
     },
     "execution_count": 12,
     "metadata": {},
     "output_type": "execute_result"
    }
   ],
   "source": [
    "# Train the data\n",
    "classifier.fit(X_train, y_train)"
   ]
  },
  {
   "cell_type": "code",
   "execution_count": 13,
   "id": "342853f9",
   "metadata": {},
   "outputs": [
    {
     "data": {
      "text/html": [
       "<div>\n",
       "<style scoped>\n",
       "    .dataframe tbody tr th:only-of-type {\n",
       "        vertical-align: middle;\n",
       "    }\n",
       "\n",
       "    .dataframe tbody tr th {\n",
       "        vertical-align: top;\n",
       "    }\n",
       "\n",
       "    .dataframe thead th {\n",
       "        text-align: right;\n",
       "    }\n",
       "</style>\n",
       "<table border=\"1\" class=\"dataframe\">\n",
       "  <thead>\n",
       "    <tr style=\"text-align: right;\">\n",
       "      <th></th>\n",
       "      <th>Prediction</th>\n",
       "      <th>Actual</th>\n",
       "    </tr>\n",
       "  </thead>\n",
       "  <tbody>\n",
       "    <tr>\n",
       "      <th>3720</th>\n",
       "      <td>False</td>\n",
       "      <td>False</td>\n",
       "    </tr>\n",
       "    <tr>\n",
       "      <th>2011</th>\n",
       "      <td>False</td>\n",
       "      <td>False</td>\n",
       "    </tr>\n",
       "    <tr>\n",
       "      <th>10368</th>\n",
       "      <td>False</td>\n",
       "      <td>False</td>\n",
       "    </tr>\n",
       "    <tr>\n",
       "      <th>12286</th>\n",
       "      <td>False</td>\n",
       "      <td>False</td>\n",
       "    </tr>\n",
       "    <tr>\n",
       "      <th>218</th>\n",
       "      <td>False</td>\n",
       "      <td>False</td>\n",
       "    </tr>\n",
       "    <tr>\n",
       "      <th>...</th>\n",
       "      <td>...</td>\n",
       "      <td>...</td>\n",
       "    </tr>\n",
       "    <tr>\n",
       "      <th>3195</th>\n",
       "      <td>False</td>\n",
       "      <td>False</td>\n",
       "    </tr>\n",
       "    <tr>\n",
       "      <th>13685</th>\n",
       "      <td>False</td>\n",
       "      <td>False</td>\n",
       "    </tr>\n",
       "    <tr>\n",
       "      <th>2619</th>\n",
       "      <td>False</td>\n",
       "      <td>False</td>\n",
       "    </tr>\n",
       "    <tr>\n",
       "      <th>2687</th>\n",
       "      <td>False</td>\n",
       "      <td>False</td>\n",
       "    </tr>\n",
       "    <tr>\n",
       "      <th>4403</th>\n",
       "      <td>False</td>\n",
       "      <td>False</td>\n",
       "    </tr>\n",
       "  </tbody>\n",
       "</table>\n",
       "<p>3485 rows × 2 columns</p>\n",
       "</div>"
      ],
      "text/plain": [
       "       Prediction  Actual\n",
       "3720        False   False\n",
       "2011        False   False\n",
       "10368       False   False\n",
       "12286       False   False\n",
       "218         False   False\n",
       "...           ...     ...\n",
       "3195        False   False\n",
       "13685       False   False\n",
       "2619        False   False\n",
       "2687        False   False\n",
       "4403        False   False\n",
       "\n",
       "[3485 rows x 2 columns]"
      ]
     },
     "execution_count": 13,
     "metadata": {},
     "output_type": "execute_result"
    }
   ],
   "source": [
    "#Make predictions\n",
    "predictions = classifier.predict(X_test)\n",
    "pd.DataFrame({\"Prediction\": predictions, \"Actual\": y_test})"
   ]
  },
  {
   "cell_type": "code",
   "execution_count": 14,
   "id": "ced69f69",
   "metadata": {},
   "outputs": [
    {
     "data": {
      "text/plain": [
       "0.9649928263988522"
      ]
     },
     "execution_count": 14,
     "metadata": {},
     "output_type": "execute_result"
    }
   ],
   "source": [
    "from sklearn.metrics import accuracy_score\n",
    "accuracy_score(y_test, predictions)"
   ]
  },
  {
   "cell_type": "markdown",
   "id": "e431bdf4",
   "metadata": {},
   "source": [
    "### Balanced Random Forest Classifier\n"
   ]
  },
  {
   "cell_type": "code",
   "execution_count": 15,
   "id": "ae9dd149",
   "metadata": {},
   "outputs": [],
   "source": [
    "# Resample the training data with the BalancedRandomForestClassifier\n",
    "# Create a random forest classifier.\n",
    "from imblearn.ensemble import BalancedRandomForestClassifier\n",
    "from sklearn.metrics import balanced_accuracy_score\n",
    "from sklearn.metrics import confusion_matrix\n",
    "from imblearn.metrics import classification_report_imbalanced\n",
    "brf_model = BalancedRandomForestClassifier(n_estimators=100, random_state=78) \n",
    "# Fitting the model\n",
    "brf_model = brf_model.fit(X_train_scaled, y_train)\n",
    "y_pred = brf_model.predict(X_test_scaled)\n"
   ]
  },
  {
   "cell_type": "code",
   "execution_count": 16,
   "id": "b808a1c9",
   "metadata": {
    "scrolled": true
   },
   "outputs": [
    {
     "data": {
      "text/plain": [
       "0.5483175150992234"
      ]
     },
     "execution_count": 16,
     "metadata": {},
     "output_type": "execute_result"
    }
   ],
   "source": [
    "# Calculated the balanced accuracy score\n",
    "# Calculating the accuracy score.\n",
    "acc_score = balanced_accuracy_score(y_test,y_pred)\n",
    "acc_score"
   ]
  },
  {
   "cell_type": "code",
   "execution_count": 17,
   "id": "4e67375e",
   "metadata": {},
   "outputs": [
    {
     "data": {
      "text/html": [
       "<div>\n",
       "<style scoped>\n",
       "    .dataframe tbody tr th:only-of-type {\n",
       "        vertical-align: middle;\n",
       "    }\n",
       "\n",
       "    .dataframe tbody tr th {\n",
       "        vertical-align: top;\n",
       "    }\n",
       "\n",
       "    .dataframe thead th {\n",
       "        text-align: right;\n",
       "    }\n",
       "</style>\n",
       "<table border=\"1\" class=\"dataframe\">\n",
       "  <thead>\n",
       "    <tr style=\"text-align: right;\">\n",
       "      <th></th>\n",
       "      <th>Predicted 0</th>\n",
       "      <th>Predicted 1</th>\n",
       "    </tr>\n",
       "  </thead>\n",
       "  <tbody>\n",
       "    <tr>\n",
       "      <th>Actual 0</th>\n",
       "      <td>1593</td>\n",
       "      <td>1770</td>\n",
       "    </tr>\n",
       "    <tr>\n",
       "      <th>Actual 1</th>\n",
       "      <td>46</td>\n",
       "      <td>76</td>\n",
       "    </tr>\n",
       "  </tbody>\n",
       "</table>\n",
       "</div>"
      ],
      "text/plain": [
       "          Predicted 0  Predicted 1\n",
       "Actual 0         1593         1770\n",
       "Actual 1           46           76"
      ]
     },
     "execution_count": 17,
     "metadata": {},
     "output_type": "execute_result"
    }
   ],
   "source": [
    "# Display the confusion matrix\n",
    "# Calculating the confusion matrix.\n",
    "cm = confusion_matrix(y_test, y_pred)\n",
    "\n",
    "# Create a DataFrame from the confusion matrix.\n",
    "cm_df = pd.DataFrame(\n",
    "    cm, index=[\"Actual 0\", \"Actual 1\"], columns=[\"Predicted 0\", \"Predicted 1\"])\n",
    "\n",
    "cm_df"
   ]
  },
  {
   "cell_type": "code",
   "execution_count": 18,
   "id": "deb39571",
   "metadata": {},
   "outputs": [
    {
     "name": "stdout",
     "output_type": "stream",
     "text": [
      "Confusion Matrix\n"
     ]
    },
    {
     "data": {
      "text/html": [
       "<div>\n",
       "<style scoped>\n",
       "    .dataframe tbody tr th:only-of-type {\n",
       "        vertical-align: middle;\n",
       "    }\n",
       "\n",
       "    .dataframe tbody tr th {\n",
       "        vertical-align: top;\n",
       "    }\n",
       "\n",
       "    .dataframe thead th {\n",
       "        text-align: right;\n",
       "    }\n",
       "</style>\n",
       "<table border=\"1\" class=\"dataframe\">\n",
       "  <thead>\n",
       "    <tr style=\"text-align: right;\">\n",
       "      <th></th>\n",
       "      <th>Predicted 0</th>\n",
       "      <th>Predicted 1</th>\n",
       "    </tr>\n",
       "  </thead>\n",
       "  <tbody>\n",
       "    <tr>\n",
       "      <th>Actual 0</th>\n",
       "      <td>1593</td>\n",
       "      <td>1770</td>\n",
       "    </tr>\n",
       "    <tr>\n",
       "      <th>Actual 1</th>\n",
       "      <td>46</td>\n",
       "      <td>76</td>\n",
       "    </tr>\n",
       "  </tbody>\n",
       "</table>\n",
       "</div>"
      ],
      "text/plain": [
       "          Predicted 0  Predicted 1\n",
       "Actual 0         1593         1770\n",
       "Actual 1           46           76"
      ]
     },
     "metadata": {},
     "output_type": "display_data"
    },
    {
     "name": "stdout",
     "output_type": "stream",
     "text": [
      "Balanced Accuracy Score : 0.5483175150992234\n",
      "Classification Report\n",
      "              precision    recall  f1-score   support\n",
      "\n",
      "       False       0.97      0.47      0.64      3363\n",
      "        True       0.04      0.62      0.08       122\n",
      "\n",
      "    accuracy                           0.48      3485\n",
      "   macro avg       0.51      0.55      0.36      3485\n",
      "weighted avg       0.94      0.48      0.62      3485\n",
      "\n"
     ]
    }
   ],
   "source": [
    "from sklearn.metrics import confusion_matrix, accuracy_score, classification_report\n",
    "# Print the imbalanced classification report\n",
    "# Displaying results\n",
    "print(\"Confusion Matrix\")\n",
    "display(cm_df)\n",
    "print(f\"Balanced Accuracy Score : {acc_score}\")\n",
    "print(\"Classification Report\")\n",
    "print(classification_report(y_test, y_pred))"
   ]
  },
  {
   "cell_type": "code",
   "execution_count": 19,
   "id": "f6c37f23",
   "metadata": {},
   "outputs": [
    {
     "data": {
      "text/plain": [
       "[(0.7457413176650127, 'offense'),\n",
       " (0.0671608320057218, 'pass_yds'),\n",
       " (0.06464304904136613, 'pass_att'),\n",
       " (0.047949453950366996, 'Surface_fieldturf '),\n",
       " (0.02330486277229869, 'Surface_grass'),\n",
       " (0.015168645997853378, 'Surface_astroturf'),\n",
       " (0.014461186421427217, 'Surface_fieldturf'),\n",
       " (0.012363771153074372, 'Surface_sportturf'),\n",
       " (0.00920688099287872, 'Surface_matrixturf')]"
      ]
     },
     "execution_count": 19,
     "metadata": {},
     "output_type": "execute_result"
    }
   ],
   "source": [
    "# List the features sorted in descending order by feature importance\n",
    "importances = brf_model.feature_importances_\n",
    "sorted(zip(importances, X.columns), reverse=True)"
   ]
  },
  {
   "cell_type": "markdown",
   "id": "fbc978ac",
   "metadata": {},
   "source": [
    "### Easy Ensemble AdaBoost Classifer"
   ]
  },
  {
   "cell_type": "code",
   "execution_count": 20,
   "id": "dfd638a4",
   "metadata": {},
   "outputs": [],
   "source": [
    "# Train the EasyEnsembleClassifier\n",
    "from imblearn.ensemble import EasyEnsembleClassifier\n",
    "classifier = EasyEnsembleClassifier(n_estimators=100)\n",
    "\n",
    "classifier.fit(X_train_scaled, y_train)\n",
    "predictions = classifier.predict(X_test_scaled)"
   ]
  },
  {
   "cell_type": "code",
   "execution_count": 21,
   "id": "3a4de751",
   "metadata": {},
   "outputs": [
    {
     "name": "stdout",
     "output_type": "stream",
     "text": [
      "Accuracy Score : 0.478909612625538\n"
     ]
    }
   ],
   "source": [
    "# Calculated the balanced accuracy score\n",
    "from sklearn.metrics import confusion_matrix\n",
    "from sklearn.metrics import accuracy_score\n",
    "from sklearn.metrics import classification_report\n",
    "acc_score = accuracy_score(y_test, y_pred)\n",
    "print(f\"Accuracy Score : {acc_score}\")"
   ]
  },
  {
   "cell_type": "code",
   "execution_count": 22,
   "id": "b6d4b530",
   "metadata": {},
   "outputs": [
    {
     "data": {
      "text/html": [
       "<div>\n",
       "<style scoped>\n",
       "    .dataframe tbody tr th:only-of-type {\n",
       "        vertical-align: middle;\n",
       "    }\n",
       "\n",
       "    .dataframe tbody tr th {\n",
       "        vertical-align: top;\n",
       "    }\n",
       "\n",
       "    .dataframe thead th {\n",
       "        text-align: right;\n",
       "    }\n",
       "</style>\n",
       "<table border=\"1\" class=\"dataframe\">\n",
       "  <thead>\n",
       "    <tr style=\"text-align: right;\">\n",
       "      <th></th>\n",
       "      <th>Predicted 0</th>\n",
       "      <th>Predicted 1</th>\n",
       "    </tr>\n",
       "  </thead>\n",
       "  <tbody>\n",
       "    <tr>\n",
       "      <th>Actual 0</th>\n",
       "      <td>1593</td>\n",
       "      <td>1770</td>\n",
       "    </tr>\n",
       "    <tr>\n",
       "      <th>Actual 1</th>\n",
       "      <td>46</td>\n",
       "      <td>76</td>\n",
       "    </tr>\n",
       "  </tbody>\n",
       "</table>\n",
       "</div>"
      ],
      "text/plain": [
       "          Predicted 0  Predicted 1\n",
       "Actual 0         1593         1770\n",
       "Actual 1           46           76"
      ]
     },
     "metadata": {},
     "output_type": "display_data"
    }
   ],
   "source": [
    "# Display the confusion matrix\n",
    "cm = confusion_matrix(y_test, y_pred)\n",
    "cm_df = pd.DataFrame(\n",
    "   cm, index=[\"Actual 0\", \"Actual 1\"],\n",
    "   columns=[\"Predicted 0\", \"Predicted 1\"]\n",
    ")\n",
    "display(cm_df)"
   ]
  },
  {
   "cell_type": "code",
   "execution_count": 23,
   "id": "d340d430",
   "metadata": {},
   "outputs": [
    {
     "name": "stdout",
     "output_type": "stream",
     "text": [
      "Classification Report\n",
      "              precision    recall  f1-score   support\n",
      "\n",
      "       False       0.97      0.47      0.64      3363\n",
      "        True       0.04      0.62      0.08       122\n",
      "\n",
      "    accuracy                           0.48      3485\n",
      "   macro avg       0.51      0.55      0.36      3485\n",
      "weighted avg       0.94      0.48      0.62      3485\n",
      "\n"
     ]
    }
   ],
   "source": [
    "# Print the imbalanced classification report\n",
    "print(\"Classification Report\")\n",
    "print(classification_report(y_test, y_pred))"
   ]
  },
  {
   "cell_type": "markdown",
   "id": "4099bf78",
   "metadata": {},
   "source": [
    "### Combination (Over and Under) Sampling\n",
    "In this section, you will test a combination over- and under-sampling algorithm to determine if the algorithm results in the best performance compared to the other sampling algorithms above. You will resample the data using the SMOTEENN algorithm and complete the folliowing steps:\n",
    "\n",
    "1. View the count of the target classes using Counter from the collections library.\n",
    "2. Use the resampled data to train a logistic regression model.\n",
    "3. Calculate the balanced accuracy score from sklearn.metrics.\n",
    "4. Print the confusion matrix from sklearn.metrics.\n",
    "5. Generate a classication report using the imbalanced_classification_report from imbalanced-learn.\n",
    "\n",
    "Note: Use a random state of 1 for each sampling algorithm to ensure consistency between tests"
   ]
  },
  {
   "cell_type": "code",
   "execution_count": 24,
   "id": "dc072337",
   "metadata": {},
   "outputs": [
    {
     "data": {
      "text/plain": [
       "Counter({False: 10560, True: 3654})"
      ]
     },
     "execution_count": 24,
     "metadata": {},
     "output_type": "execute_result"
    }
   ],
   "source": [
    "# Resample the training data with SMOTEENN\n",
    "from imblearn.combine import SMOTEENN\n",
    "\n",
    "smote_enn = SMOTEENN(random_state=0)\n",
    "X_resampled, y_resampled = smote_enn.fit_resample(X, y)\n",
    "Counter(y_resampled)"
   ]
  },
  {
   "cell_type": "code",
   "execution_count": 25,
   "id": "778882e8",
   "metadata": {},
   "outputs": [
    {
     "data": {
      "text/plain": [
       "LogisticRegression(random_state=1)"
      ]
     },
     "execution_count": 25,
     "metadata": {},
     "output_type": "execute_result"
    }
   ],
   "source": [
    "# Train the Logistic Regression model using the resampled data\n",
    "from sklearn.linear_model import LogisticRegression\n",
    "model = LogisticRegression(solver='lbfgs', random_state=1)\n",
    "model.fit(X_resampled, y_resampled)"
   ]
  },
  {
   "cell_type": "code",
   "execution_count": 26,
   "id": "c100b41a",
   "metadata": {},
   "outputs": [
    {
     "data": {
      "text/plain": [
       "0.5483175150992234"
      ]
     },
     "execution_count": 26,
     "metadata": {},
     "output_type": "execute_result"
    }
   ],
   "source": [
    "# Calculated the balanced accuracy score\n",
    "from sklearn.metrics import balanced_accuracy_score\n",
    "\n",
    "balanced_accuracy_score(y_test, y_pred)"
   ]
  },
  {
   "cell_type": "code",
   "execution_count": 27,
   "id": "c5d5f5f6",
   "metadata": {},
   "outputs": [
    {
     "data": {
      "text/plain": [
       "array([[3305,   58],\n",
       "       [ 115,    7]])"
      ]
     },
     "execution_count": 27,
     "metadata": {},
     "output_type": "execute_result"
    }
   ],
   "source": [
    "# Display the confusion matrix\n",
    "from sklearn.metrics import confusion_matrix\n",
    "\n",
    "y_pred = model.predict(X_test)\n",
    "confusion_matrix(y_test, y_pred)"
   ]
  },
  {
   "cell_type": "code",
   "execution_count": 28,
   "id": "efa1a7a0",
   "metadata": {},
   "outputs": [
    {
     "name": "stdout",
     "output_type": "stream",
     "text": [
      "                   pre       rec       spe        f1       geo       iba       sup\n",
      "\n",
      "      False       0.97      0.98      0.06      0.97      0.24      0.06      3363\n",
      "       True       0.11      0.06      0.98      0.07      0.24      0.05       122\n",
      "\n",
      "avg / total       0.94      0.95      0.09      0.94      0.24      0.06      3485\n",
      "\n"
     ]
    }
   ],
   "source": [
    "# Print the imbalanced classification report\n",
    "from imblearn.metrics import classification_report_imbalanced\n",
    "\n",
    "print(classification_report_imbalanced(y_test, y_pred))"
   ]
  },
  {
   "cell_type": "markdown",
   "id": "7e7f8ccd",
   "metadata": {},
   "source": [
    "### SMOTE Oversampling"
   ]
  },
  {
   "cell_type": "code",
   "execution_count": 29,
   "id": "9e6d7be4",
   "metadata": {},
   "outputs": [
    {
     "data": {
      "text/plain": [
       "Counter({False: 10111, True: 10111})"
      ]
     },
     "execution_count": 29,
     "metadata": {},
     "output_type": "execute_result"
    }
   ],
   "source": [
    "# Resample the training data with SMOTE\n",
    "from imblearn.over_sampling import SMOTE\n",
    "X_resampled, y_resampled = SMOTE(random_state=1,\n",
    "sampling_strategy='auto').fit_resample(\n",
    "   X_train, y_train)\n",
    "\n",
    "Counter(y_resampled)"
   ]
  },
  {
   "cell_type": "code",
   "execution_count": 30,
   "id": "d5565e6d",
   "metadata": {},
   "outputs": [
    {
     "data": {
      "text/plain": [
       "LogisticRegression(random_state=1)"
      ]
     },
     "execution_count": 30,
     "metadata": {},
     "output_type": "execute_result"
    }
   ],
   "source": [
    "# Train the Logistic Regression model using the resampled data\n",
    "model = LogisticRegression(solver='lbfgs', random_state=1)\n",
    "model.fit(X_resampled, y_resampled)"
   ]
  },
  {
   "cell_type": "code",
   "execution_count": 31,
   "id": "3fb43ca0",
   "metadata": {},
   "outputs": [
    {
     "data": {
      "text/plain": [
       "0.5757715349780397"
      ]
     },
     "execution_count": 31,
     "metadata": {},
     "output_type": "execute_result"
    }
   ],
   "source": [
    "# Calculated the balanced accuracy score\n",
    "y_pred = model.predict(X_test)\n",
    "balanced_accuracy_score(y_test, y_pred)"
   ]
  },
  {
   "cell_type": "code",
   "execution_count": 32,
   "id": "6e2f924b",
   "metadata": {},
   "outputs": [
    {
     "data": {
      "text/plain": [
       "array([[1502, 1861],\n",
       "       [  36,   86]])"
      ]
     },
     "execution_count": 32,
     "metadata": {},
     "output_type": "execute_result"
    }
   ],
   "source": [
    "# Display the confusion matrix\n",
    "confusion_matrix(y_test, y_pred)"
   ]
  },
  {
   "cell_type": "code",
   "execution_count": 33,
   "id": "68e90471",
   "metadata": {},
   "outputs": [
    {
     "name": "stdout",
     "output_type": "stream",
     "text": [
      "                   pre       rec       spe        f1       geo       iba       sup\n",
      "\n",
      "      False       0.98      0.45      0.70      0.61      0.56      0.31      3363\n",
      "       True       0.04      0.70      0.45      0.08      0.56      0.32       122\n",
      "\n",
      "avg / total       0.94      0.46      0.70      0.59      0.56      0.31      3485\n",
      "\n"
     ]
    }
   ],
   "source": [
    "# Print the imbalanced classification report\n",
    "print(classification_report_imbalanced(y_test, y_pred))"
   ]
  },
  {
   "cell_type": "code",
   "execution_count": null,
   "id": "77fe63e3",
   "metadata": {},
   "outputs": [],
   "source": []
  }
 ],
 "metadata": {
  "kernelspec": {
   "display_name": "mlenv",
   "language": "python",
   "name": "mlenv"
  },
  "language_info": {
   "codemirror_mode": {
    "name": "ipython",
    "version": 3
   },
   "file_extension": ".py",
   "mimetype": "text/x-python",
   "name": "python",
   "nbconvert_exporter": "python",
   "pygments_lexer": "ipython3",
   "version": "3.7.10"
  }
 },
 "nbformat": 4,
 "nbformat_minor": 5
}
